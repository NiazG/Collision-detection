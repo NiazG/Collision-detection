{
 "cells": [
  {
   "cell_type": "markdown",
   "metadata": {},
   "source": [
    "### Collision detection\n",
    "\n",
    "Given `N` rectangles on the plane. Each has a width, a height and coordinates of the bottom left corner. Sides are parallel to the axes Ox and Oy. Each rectangle has a velocity, which is a 2-dimensional vector. \n",
    "\n",
    "Two rectangles may collide. One collision is a pair of rectangles which have a common point. When one of the rectangles is inside another it is a collision too.\n",
    "\n",
    "Every tick each of the rectangles moves along its velocity vector.\n",
    "\n",
    "####  The task\n",
    "\n",
    "Given `T` ticks. On each tick output the number of collisions. Provide unit and stress tests.\n",
    "\n",
    "#### Score\n",
    "\n",
    "Your score depends on the speed and correctness of your algorithm. For the values `N` and `T` greater than 1000 it might be tricky to calculate everything in 1 second. The correct `O(T n^2)` algorithm gives you a good mark but only if there are a plenty of unit tests along with stress tests.\n",
    "\n",
    "#### Hints\n",
    "\n",
    "1) You can start with `O(T n^2)` algorithm, which simply checks all pairs of rectangles on every tick, but it does not pass all of the tests. You can verify your fast solution with this naive algorithm on small input.\n",
    "\n",
    "2) Fast solutions might divide the plane in regions, sort the rectangles, even build trees of them. You can try any ideas in your solution.\n",
    "\n",
    "3) There are many books and articles about collision detection, and many of them rely on simple data structures and algorithms such as sorting, trees (graphs without cycles) and so on. Try what you like.\n",
    "\n",
    "4) See examples below.\n",
    "\n",
    "5) Feel free to use or change DrawExample function. It might help you to visualize your ideas."
   ]
  },
  {
   "cell_type": "code",
   "execution_count": 1,
   "metadata": {},
   "outputs": [],
   "source": [
    "import numpy as np"
   ]
  },
  {
   "cell_type": "code",
   "execution_count": 2,
   "metadata": {},
   "outputs": [],
   "source": [
    "class Point:\n",
    "    def __init__(self, x, y):\n",
    "        self.point = [x, y]\n",
    "\n",
    "    def __getitem__(self, i):\n",
    "        return self.point[i]\n",
    "    \n",
    "    def x(self):\n",
    "        return self.point[0]\n",
    "    \n",
    "    def y(self):\n",
    "        return self.point[1]\n",
    "\n",
    "class Object:\n",
    "    def __init__(self, velocity):\n",
    "        self.velocity = velocity\n",
    "\n",
    "class Rectangle(Object):\n",
    "    def __init__(self, botLeft, width, height, velocity):\n",
    "        super().__init__(velocity)\n",
    "        self.botLeft = botLeft\n",
    "        self.width = width\n",
    "        self.height = height"
   ]
  },
  {
   "cell_type": "code",
   "execution_count": 3,
   "metadata": {},
   "outputs": [],
   "source": [
    "import matplotlib.pyplot as plt\n",
    "import matplotlib.patches as patches"
   ]
  },
  {
   "cell_type": "code",
   "execution_count": 4,
   "metadata": {},
   "outputs": [],
   "source": [
    "def DrawExample(rectangles):\n",
    "    colors = [\n",
    "        'b',\n",
    "        'r',\n",
    "        'g',\n",
    "        'c',\n",
    "        'm',\n",
    "        'y'\n",
    "    ]\n",
    "    fig, ax = plt.subplots()\n",
    "    ax.plot()\n",
    "    for rect, color in zip(rectangles, colors):\n",
    "        p = patches.Rectangle(rect.botLeft, rect.width, rect.height, edgecolor=color, facecolor='none')\n",
    "        ax.add_patch(p)\n",
    "    return ax"
   ]
  },
  {
   "cell_type": "code",
   "execution_count": 5,
   "metadata": {},
   "outputs": [
    {
     "data": {
      "image/png": "[encoded data removed]",
      "text/plain": [
       "<Figure size 432x288 with 1 Axes>"
      ]
     },
     "metadata": {
      "needs_background": "light"
     },
     "output_type": "display_data"
    }
   ],
   "source": [
    "rectangles = [\n",
    "    Rectangle(Point(2.5, 1), 2, 3, Point(0, 0)),\n",
    "    Rectangle(Point(0, 1), 3, 1, Point(0.5, 1)),\n",
    "    Rectangle(Point(0.5, 3), 0.3, 0.5, Point(0, 0)),\n",
    "    Rectangle(Point(5, 0), 1, 3, Point(0, 0.5)),\n",
    "    Rectangle(Point(2, 0), 3, 1, Point(0.5, 1)),\n",
    "    Rectangle(Point(2, 3), 1, 2, Point(1, 1.5))\n",
    "]\n",
    "ax = DrawExample(rectangles)\n",
    "plt.show()"
   ]
  },
  {
   "cell_type": "markdown",
   "metadata": {},
   "source": [
    "You can run the below cell multiple times to see the movement of the red one."
   ]
  },
  {
   "cell_type": "code",
   "execution_count": 6,
   "metadata": {},
   "outputs": [],
   "source": [
    "tick = 1"
   ]
  },
  {
   "cell_type": "code",
   "execution_count": 7,
   "metadata": {},
   "outputs": [
    {
     "data": {
      "image/png": "[encoded data removed]",
      "text/plain": [
       "<Figure size 432x288 with 1 Axes>"
      ]
     },
     "metadata": {
      "needs_background": "light"
     },
     "output_type": "display_data"
    },
    {
     "name": "stdout",
     "output_type": "stream",
     "text": [
      "Tick 1\n"
     ]
    }
   ],
   "source": [
    "red = rectangles[1]\n",
    "red.botLeft = Point(red.botLeft.x() + red.velocity.x(), red.botLeft.y() + red.velocity.y())\n",
    "ax = DrawExample(rectangles)\n",
    "ax.add_patch(patches.Rectangle((0.5, 3), 0.3, 0.5, edgecolor='g', facecolor='none'))\n",
    "plt.show()\n",
    "print(\"Tick\", tick)\n",
    "tick += 1"
   ]
  },
  {
   "cell_type": "markdown",
   "metadata": {},
   "source": [
    "### First algorithm:\n",
    "\n",
    "We need to specify the bottom left 'x' coordinate (just botLeft.x()) and the bottom right 'x' coordinate (botLeft.x() + width) for two rectangles that we are going to check for the collision.\n",
    "\n",
    "\n",
    "lx1 = bottom left 'x' coordinate of the first rectangle\n",
    "\n",
    "rx1 = bottom right 'x' coordinate of the first rectangle\n",
    "\n",
    "lx2 = bottom left 'x' coordinate of the second rectangle \n",
    "\n",
    "rx2 = bottom right 'x' coordinate of the second rectangle\n",
    "\n",
    "Also the bottom 'y' coordinate (botLeft.y()) and the top left 'y' coordinate (botLeft.y() + height)\n",
    "\n",
    "ly1 = bottom left 'y' coordinate of the first rectangle\n",
    "\n",
    "ty1 = top right 'y' coordinate of the first rectangle\n",
    "\n",
    "ly2 = bottom left 'y' coordinate of the second rectangle\n",
    "\n",
    "ty2 = top right 'y' coordinate of the second rectangle\n",
    "\n",
    "\n",
    "The collision occurs if all 4 condition are true:\n",
    "\n",
    "First two are for the horizontal detection\n",
    "\n",
    "1) lx1 <= rx2 \n",
    "If the left bottom corner of first rectangle is to the right than the right bottom corner of the second they can not collide. If lx1 = rx2 they have one common point, and if lx1 is less than rx2 rectangles can intersect each other.\n",
    "\n",
    "2) rx1 >= lx2\n",
    "If the right bottom corner of first rectangle is to th left than the left bottom corner of second they can not collide. If rx1 = lx2 they have one common point, and if rx1 is greater than lx2 rectangles can intersect each other.\n",
    "\n",
    "Last two are for the vertical detection\n",
    "\n",
    "3) ly1 <= ty2\n",
    "If the left bottom corner of the first rectangle is above than the left top corner of second rectangle they can not collidde. If ly1 = ty2 they have one common point, and if ly1 is less than ty2 rectangles can intersect each other.\n",
    "\n",
    "4) ty1 >= ly2\n",
    "If the left top corner of the first rectangle is below than the left bottom corner of second rectangle they can not collidde. If ty1 = ly2 they have one common point, and if ty1 is greater than ly2 rectangles can intersect each other.\n",
    "\n",
    "\n",
    "For each ticks, we will check the conditions for each rectangle one by one. \n",
    "Time complexity will be O(T*n^2)"
   ]
  },
  {
   "cell_type": "code",
   "execution_count": 8,
   "metadata": {},
   "outputs": [],
   "source": [
    "rectangles = [\n",
    "    Rectangle(Point(0, 1), 1, 2, Point(0, 0)),\n",
    "    Rectangle(Point(2, 1), 1, 1, Point(0.5, 1)),\n",
    "    Rectangle(Point(0.5, 1.5), 0.3, 0.5, Point(0.5, 0.5)),\n",
    "    Rectangle(Point(1, 2), 1, 1, Point(1, 0.5)),\n",
    "    \n",
    "]"
   ]
  },
  {
   "cell_type": "code",
   "execution_count": 9,
   "metadata": {},
   "outputs": [],
   "source": [
    "import copy\n",
    "def CountCollisions(rects: [Rectangle], ticks: int):\n",
    "    rects = copy.deepcopy(rects)\n",
    "    for tick in range(ticks+1):\n",
    "        collision = 0\n",
    "        for i in range(len(rects)):\n",
    "            for j in range(len(rects)):\n",
    "                if i == j:\n",
    "                    continue\n",
    "                if (rects[i].botLeft.x() <= rects[j].botLeft.x() + rects[j].width and\n",
    "                    rects[i].botLeft.x() + rects[i].width >= rects[j].botLeft.x() and\n",
    "                    rects[i].botLeft.y() <= rects[j].botLeft.y() + rects[j].height and \n",
    "                    rects[i].botLeft.y() + rects[i].height >= rects[j].botLeft.y()):\n",
    "                        collision +=1\n",
    "        print('Tick: {0}\\nCollisions: {1}'.format(tick, int(collision/2)))\n",
    "        \n",
    "        \n",
    "        for rect in rects:\n",
    "            rect.botLeft = Point(rect.botLeft.x() + rect.velocity.x(), rect.botLeft.y() + rect.velocity.y())"
   ]
  },
  {
   "cell_type": "code",
   "execution_count": 10,
   "metadata": {},
   "outputs": [
    {
     "name": "stdout",
     "output_type": "stream",
     "text": [
      "Tick: 0\n",
      "Collisions: 3\n",
      "Tick: 1\n",
      "Collisions: 2\n",
      "Tick: 2\n",
      "Collisions: 1\n",
      "Tick: 3\n",
      "Collisions: 1\n",
      "Tick: 4\n",
      "Collisions: 1\n"
     ]
    }
   ],
   "source": [
    "CountCollisions(rectangles, 4)"
   ]
  },
  {
   "cell_type": "markdown",
   "metadata": {},
   "source": [
    "### Second algorithm:\n",
    "Next method almost same. Here I used the combinations function from the itertools to avoid double calculations. "
   ]
  },
  {
   "cell_type": "code",
   "execution_count": 11,
   "metadata": {},
   "outputs": [],
   "source": [
    "import itertools\n",
    "import copy\n",
    "def CountCollisions1(rects: [Rectangle], ticks: int):\n",
    "    rects1 = copy.deepcopy(rects)\n",
    "    for tick in range(ticks+1):\n",
    "        collision = 0\n",
    "        rect_comb = []\n",
    "        for subset in itertools.combinations(rects1, 2):\n",
    "            rect_comb.append(subset)\n",
    "        \n",
    "        for rects in rect_comb:\n",
    "            if (rects[0].botLeft.x() <= rects[1].botLeft.x() + rects[1].width and\n",
    "                rects[0].botLeft.x() + rects[0].width >= rects[1].botLeft.x() and\n",
    "                rects[0].botLeft.y() <= rects[1].botLeft.y() + rects[1].height and \n",
    "                rects[0].botLeft.y() + rects[0].height >= rects[1].botLeft.y()):\n",
    "                collision +=1\n",
    "        print('Tick: {0}\\nCollisions: {1}'.format(tick, collision))\n",
    "        for rect in rects1:\n",
    "            rect.botLeft = Point(rect.botLeft.x() + rect.velocity.x(), rect.botLeft.y() + rect.velocity.y())\n"
   ]
  },
  {
   "cell_type": "markdown",
   "metadata": {},
   "source": [
    "### Third Algorithm:\n",
    "Sweep and Prune algorithm. \n",
    "\n",
    "The algorithm is:\n",
    "\n",
    "1) sort the rectangles according to the left x coordinates (sorted_rect)\n",
    "\n",
    "2) prepare the list for active rectangles (active_rect) and possible intersections list (intersection_rect)\n",
    "\n",
    "3) for each rectangle in the sorted_rect we will go by each rectangle in the active_rect. We will compare the right x coordinate (right1) of the rectangle from the sorted_list and the left x coordinate (left2) of the rectangle from active_rect. \n",
    "\n",
    "4) If left2 > right1, then the rectangles are not colliding, we can stop comparing. The compared active rectangle is removed from the list. We proceed with the next rectangle from the active rectanlges list.\n",
    "\n",
    "5) If left2 <= right1, then the rectangles can collide.\n",
    "    In this step to count the collision, we also need to compare the bottom and top y coordinates like in previous methods. If bottom y coordinate of the rectangle from the right1 rectangle is less than or equal to the up y coordinate of the left2 rectangle and the up y coordinate of the left2 rectangle is greater than or equal to the bottom y coordinate of the left rectangle than they collide.\n",
    "\n",
    "6) Second rectangle added to the active_rect to compare for the next rectangles.\n",
    "\n",
    "By keep doing the comparisons in this way we will compare less than n*2 times\n",
    "\n",
    "7) We also need to go through the next tick after all steps and do the same steps.\n"
   ]
  },
  {
   "cell_type": "code",
   "execution_count": 12,
   "metadata": {},
   "outputs": [],
   "source": [
    "def sweep_and_prune(rects: [Rectangle], ticks: int):\n",
    "    rects = copy.deepcopy(rects)\n",
    "    for tick in range(ticks+1):\n",
    "        collisions_sp = 0\n",
    "        sorted_rect = sorted(rects, key=lambda x:x.botLeft.x())\n",
    "        active_rect = [sorted_rect[0]]\n",
    "\n",
    "        for rect in sorted_rect[1:]:\n",
    "            for active in active_rect[::-1]:\n",
    "                if rect.botLeft.x() > active.botLeft.x() + active.width:\n",
    "                    active_rect.remove(active)\n",
    "                    continue\n",
    "                elif rect.botLeft.y() <= active.botLeft.y() + active.height and rect.botLeft.y() + rect.height >= active.botLeft.y():\n",
    "                        collisions_sp +=1\n",
    "            active_rect.append(rect)\n",
    "                \n",
    "        for rect in rects:\n",
    "            rect.botLeft = Point(rect.botLeft.x() + rect.velocity.x(), rect.botLeft.y() + rect.velocity.y())\n",
    "        print('Tick: {0}\\nCollisions: {1}'.format(tick, collisions_sp))"
   ]
  },
  {
   "cell_type": "code",
   "execution_count": 13,
   "metadata": {},
   "outputs": [],
   "source": [
    "rectangles1 = [\n",
    "    Rectangle(Point(1, 2), 1, 1, Point(1, 0.5)),\n",
    "    Rectangle(Point(2, 2), 1, 1, Point(1, 0.5)),\n",
    "    Rectangle(Point(2.5, 1.5), 0.3, 0.5, Point(0.5, 0.5)),\n",
    "    Rectangle(Point(3, 2), 1, 1, Point(1, 0.5))\n",
    "]\n"
   ]
  },
  {
   "cell_type": "code",
   "execution_count": 14,
   "metadata": {},
   "outputs": [
    {
     "name": "stdout",
     "output_type": "stream",
     "text": [
      "first\n",
      "Tick: 0\n",
      "Collisions: 3\n",
      "Tick: 1\n",
      "Collisions: 4\n",
      "Tick: 2\n",
      "Collisions: 3\n",
      "Tick: 3\n",
      "Collisions: 3\n",
      "second\n",
      "Tick: 0\n",
      "Collisions: 3\n",
      "Tick: 1\n",
      "Collisions: 4\n",
      "Tick: 2\n",
      "Collisions: 3\n",
      "Tick: 3\n",
      "Collisions: 3\n",
      "third\n",
      "Tick: 0\n",
      "Collisions: 3\n",
      "Tick: 1\n",
      "Collisions: 4\n",
      "Tick: 2\n",
      "Collisions: 3\n",
      "Tick: 3\n",
      "Collisions: 3\n"
     ]
    }
   ],
   "source": [
    "print('first')\n",
    "CountCollisions(rectangles1,3)\n",
    "print('second')\n",
    "CountCollisions1(rectangles1,3)\n",
    "print(\"third\")\n",
    "sweep_and_prune(rectangles1,3)"
   ]
  },
  {
   "cell_type": "markdown",
   "metadata": {},
   "source": [
    "I will adjust the function before the test. They will return the collision for the given tick."
   ]
  },
  {
   "cell_type": "code",
   "execution_count": 15,
   "metadata": {},
   "outputs": [],
   "source": [
    "def CountCollisions(rects: [Rectangle], ticks: int):\n",
    "    rects = copy.deepcopy(rects)\n",
    "    for tick in range(ticks+1):\n",
    "        collision = 0\n",
    "        for i in range(len(rects)):\n",
    "            for j in range(len(rects)):\n",
    "                if i == j:\n",
    "                    continue\n",
    "                if (rects[i].botLeft.x() <= rects[j].botLeft.x() + rects[j].width and\n",
    "                    rects[i].botLeft.x() + rects[i].width >= rects[j].botLeft.x() and\n",
    "                    rects[i].botLeft.y() <= rects[j].botLeft.y() + rects[j].height and \n",
    "                    rects[i].botLeft.y() + rects[i].height >= rects[j].botLeft.y()):\n",
    "                        collision +=1\n",
    "        for rect in rects:\n",
    "            rect.botLeft = Point(rect.botLeft.x() + rect.velocity.x(), rect.botLeft.y() + rect.velocity.y())\n",
    "    return int(collision/2)"
   ]
  },
  {
   "cell_type": "code",
   "execution_count": 16,
   "metadata": {},
   "outputs": [],
   "source": [
    "def CountCollisions1(rects: [Rectangle], ticks: int):\n",
    "    rects1 = copy.deepcopy(rects)\n",
    "    for tick in range(ticks+1):\n",
    "        collision = 0\n",
    "        rect_comb = []\n",
    "        for subset in itertools.combinations(rects1, 2):\n",
    "            rect_comb.append(subset)\n",
    "    \n",
    "        for rects in rect_comb: \n",
    "            if (rects[0].botLeft.x() <= rects[1].botLeft.x() + rects[1].width and\n",
    "                rects[0].botLeft.x() + rects[0].width >= rects[1].botLeft.x() and\n",
    "                rects[0].botLeft.y() <= rects[1].botLeft.y() + rects[1].height and \n",
    "                rects[0].botLeft.y() + rects[0].height >= rects[1].botLeft.y()):\n",
    "                collision +=1\n",
    "        \n",
    "        for rect in rects1:\n",
    "            rect.botLeft = Point(rect.botLeft.x() + rect.velocity.x(), rect.botLeft.y() + rect.velocity.y())\n",
    "    return collision"
   ]
  },
  {
   "cell_type": "code",
   "execution_count": 17,
   "metadata": {},
   "outputs": [],
   "source": [
    "def sweep_and_prune(rects: [Rectangle], ticks: int):\n",
    "    rects = copy.deepcopy(rects)\n",
    "    for tick in range(ticks+1):\n",
    "        collisions_sp = 0\n",
    "        sorted_rect = sorted(rects, key=lambda x:x.botLeft.x())\n",
    "        active_rect = [sorted_rect[0]]\n",
    "\n",
    "        for rect in sorted_rect[1:]:\n",
    "            for active in active_rect[::-1]:\n",
    "                if rect.botLeft.x() > active.botLeft.x() + active.width:\n",
    "                    active_rect.remove(active)\n",
    "                    continue\n",
    "                elif rect.botLeft.y() <= active.botLeft.y() + active.height and rect.botLeft.y() + rect.height >= active.botLeft.y():\n",
    "                        collisions_sp +=1\n",
    "            active_rect.append(rect)\n",
    "                \n",
    "        for rect in rects:\n",
    "            rect.botLeft = Point(rect.botLeft.x() + rect.velocity.x(), rect.botLeft.y() + rect.velocity.y())\n",
    "    return collisions_sp"
   ]
  },
  {
   "cell_type": "markdown",
   "metadata": {},
   "source": [
    "The list of rectangles for testing the functions"
   ]
  },
  {
   "cell_type": "code",
   "execution_count": 18,
   "metadata": {},
   "outputs": [],
   "source": [
    "test_rectangles = [\n",
    "    Rectangle(Point(0, 1), 1, 2, Point(0, 0)),\n",
    "    Rectangle(Point(2, 1), 1, 1, Point(0.5, 1)),\n",
    "    Rectangle(Point(0.5, 1.5), 0.3, 0.5, Point(0.5, 0.5)),\n",
    "    Rectangle(Point(1, 2), 1, 1, Point(1, 0.5)),\n",
    "    Rectangle(Point(0, 1.5), 1, 2, Point(0, 1)),\n",
    "]"
   ]
  },
  {
   "cell_type": "markdown",
   "metadata": {},
   "source": [
    "Let's visualise our rectangles for each tick, where we can count amount of collisions"
   ]
  },
  {
   "cell_type": "code",
   "execution_count": 19,
   "metadata": {},
   "outputs": [
    {
     "name": "stdout",
     "output_type": "stream",
     "text": [
      "tick:  0\n"
     ]
    },
    {
     "data": {
      "image/png": "[encoded data removed]",
      "text/plain": [
       "<Figure size 432x288 with 1 Axes>"
      ]
     },
     "metadata": {
      "needs_background": "light"
     },
     "output_type": "display_data"
    },
    {
     "name": "stdout",
     "output_type": "stream",
     "text": [
      "tick:  1\n"
     ]
    },
    {
     "data": {
      "image/png": "[encoded data removed]",
      "text/plain": [
       "<Figure size 432x288 with 1 Axes>"
      ]
     },
     "metadata": {
      "needs_background": "light"
     },
     "output_type": "display_data"
    },
    {
     "name": "stdout",
     "output_type": "stream",
     "text": [
      "tick:  2\n"
     ]
    },
    {
     "data": {
      "image/png": "[encoded data removed]",
      "text/plain": [
       "<Figure size 432x288 with 1 Axes>"
      ]
     },
     "metadata": {
      "needs_background": "light"
     },
     "output_type": "display_data"
    },
    {
     "name": "stdout",
     "output_type": "stream",
     "text": [
      "tick:  3\n"
     ]
    },
    {
     "data": {
      "image/png": "[encoded data removed]",
      "text/plain": [
       "<Figure size 432x288 with 1 Axes>"
      ]
     },
     "metadata": {
      "needs_background": "light"
     },
     "output_type": "display_data"
    },
    {
     "name": "stdout",
     "output_type": "stream",
     "text": [
      "tick:  4\n"
     ]
    },
    {
     "data": {
      "image/png": "[encoded data removed]",
      "text/plain": [
       "<Figure size 432x288 with 1 Axes>"
      ]
     },
     "metadata": {
      "needs_background": "light"
     },
     "output_type": "display_data"
    },
    {
     "name": "stdout",
     "output_type": "stream",
     "text": [
      "tick:  5\n"
     ]
    },
    {
     "data": {
      "image/png": "[encoded data removed]",
      "text/plain": [
       "<Figure size 432x288 with 1 Axes>"
      ]
     },
     "metadata": {
      "needs_background": "light"
     },
     "output_type": "display_data"
    }
   ],
   "source": [
    "for i in range(6):\n",
    "    tick = i\n",
    "    print(\"tick: \", tick)\n",
    "    ax = DrawExample(test_rectangles)\n",
    "    plt.show()\n",
    "    for rect in test_rectangles:\n",
    "            rect.botLeft = Point(rect.botLeft.x() + rect.velocity.x(), rect.botLeft.y() + rect.velocity.y())\n",
    "    "
   ]
  },
  {
   "cell_type": "code",
   "execution_count": 20,
   "metadata": {},
   "outputs": [],
   "source": [
    "test_rectangles = [\n",
    "    Rectangle(Point(0, 1), 1, 2, Point(0, 0)),\n",
    "    Rectangle(Point(2, 1), 1, 1, Point(0.5, 1)),\n",
    "    Rectangle(Point(0.5, 1.5), 0.3, 0.5, Point(0.5, 0.5)),\n",
    "    Rectangle(Point(1, 2), 1, 1, Point(1, 0.5)),\n",
    "    Rectangle(Point(0, 1.5), 1, 2, Point(0, 1)),\n",
    "]"
   ]
  },
  {
   "cell_type": "markdown",
   "metadata": {},
   "source": [
    "### Unit tests and stress tests"
   ]
  },
  {
   "cell_type": "code",
   "execution_count": 23,
   "metadata": {},
   "outputs": [
    {
     "name": "stdout",
     "output_type": "stream",
     "text": [
      "First method\n",
      "Unit test is correct!\n",
      "Unit test is correct!\n",
      "Unit test is correct!\n",
      "Unit test is correct!\n",
      "Unit test is correct!\n",
      "Unit test is correct!\n",
      "Second method\n",
      "Unit test is correct!\n",
      "Unit test is correct!\n",
      "Unit test is correct!\n",
      "Unit test is correct!\n",
      "Unit test is correct!\n",
      "Unit test is correct!\n",
      "Third method\n",
      "Unit test is correct!\n",
      "Unit test is correct!\n",
      "Unit test is correct!\n",
      "Unit test is correct!\n",
      "Unit test is correct!\n",
      "Unit test is correct!\n",
      "new_stress test\n",
      "Stress tests are correct!\n",
      "Runtime_test_CountCollisions:  10.304464340209961\n",
      "Runtime_test_CountCollisions1:  7.503090858459473\n",
      "Runtime_test_sweep_and_prune:  1.7959060668945312\n"
     ]
    }
   ],
   "source": [
    "import time\n",
    "def test_countCollision(test_rectangles, tick, answer):\n",
    "    test_count = CountCollisions(test_rectangles, tick)\n",
    "    message = 'Test failed\\nTick: {0}\\nObtained Output: {1}\\nRight output: {2}'\n",
    "    assert test_count == answer, message.format(tick,test_count,answer)\n",
    "    print(\"Unit test is correct!\")\n",
    "    \n",
    "def run_unit_test():\n",
    "    test_countCollision(test_rectangles, 0, 6)\n",
    "    test_countCollision(test_rectangles, 1, 4)\n",
    "    test_countCollision(test_rectangles, 2, 1)\n",
    "    test_countCollision(test_rectangles, 3, 1)\n",
    "    test_countCollision(test_rectangles, 4, 1)\n",
    "    test_countCollision(test_rectangles, 5, 0)\n",
    "\n",
    "def test_countCollision1(test_rectangles, tick, answer):\n",
    "    test_count = CountCollisions1(test_rectangles, tick)\n",
    "    message = 'Test failed\\nTick: {0}\\nObtained Output: {1}\\nRight output: {2}'\n",
    "    assert test_count == answer, message.format(tick,test_count,answer)\n",
    "    print(\"Unit test is correct!\")\n",
    "    \n",
    "def run_unit_test1():\n",
    "    test_countCollision1(test_rectangles, 0, 6)\n",
    "    test_countCollision1(test_rectangles, 1, 4)\n",
    "    test_countCollision1(test_rectangles, 2, 1)\n",
    "    test_countCollision1(test_rectangles, 3, 1)\n",
    "    test_countCollision1(test_rectangles, 4, 1)\n",
    "    test_countCollision1(test_rectangles, 5, 0)\n",
    "\n",
    "\n",
    "def test_countCollision2(test_rectangles, tick, answer):\n",
    "    test_count = sweep_and_prune(test_rectangles, tick)\n",
    "    message = 'Test failed\\nTick: {0}\\nObtained Output: {1}\\nRight output: {2}'\n",
    "    assert test_count == answer, message.format(tick,test_count,answer)\n",
    "    print(\"Unit test is correct!\")\n",
    "    \n",
    "def run_unit_test2():\n",
    "    test_countCollision2(test_rectangles, 0, 6)\n",
    "    test_countCollision2(test_rectangles, 1, 4)\n",
    "    test_countCollision2(test_rectangles, 2, 1)\n",
    "    test_countCollision2(test_rectangles, 3, 1)\n",
    "    test_countCollision2(test_rectangles, 4, 1)\n",
    "    test_countCollision2(test_rectangles, 5, 0)\n",
    "    \n",
    "    \n",
    "def get_random_test(test_size):\n",
    "    test_rect_list = []\n",
    "    for i in range(test_size):\n",
    "        test_rect_list.append(Rectangle(Point(np.random.randint(1,10), np.random.randint(1,10)),\n",
    "                                        np.random.randint(1,10),\n",
    "                                        np.random.randint(1,10),\n",
    "                                       Point(np.random.randint(1,10), np.random.randint(1,10))))\n",
    "    return test_rect_list\n",
    "\n",
    "\n",
    "    \n",
    "def run_stress_test(test_size, tick):\n",
    "    ticks = np.random.randint(1,10)\n",
    "    test_rect_list = get_random_test(test_size)\n",
    "    time1 = time.time()\n",
    "    test1 = CountCollisions(test_rect_list, ticks)\n",
    "    time2 = time.time()\n",
    "    test2 = CountCollisions1(test_rect_list, ticks)\n",
    "    time3 = time.time()\n",
    "    test3 = sweep_and_prune(test_rect_list, ticks)\n",
    "    time4 = time.time()\n",
    "    solution_runtime1 = time2 - time1\n",
    "    solution_runtime2 = time3 - time2\n",
    "    solution_runtime3 = time4 - time3\n",
    "    \n",
    "    message1 = 'Stress test failed in test1 and test2'\n",
    "    message2 = 'Stress test failed in test1 and test2'\n",
    "    assert test1 == test2, message1\n",
    "    assert test2 == test3, message1\n",
    "    print(\"Stress tests are correct!\")\n",
    "    print(\"Runtime_test_CountCollisions: \",solution_runtime1)\n",
    "    print(\"Runtime_test_CountCollisions1: \",solution_runtime2)\n",
    "    print(\"Runtime_test_sweep_and_prune: \",solution_runtime3)\n",
    "\n",
    "def main():\n",
    "    print(\"First method\")\n",
    "    run_unit_test()\n",
    "    print(\"Second method\")\n",
    "    run_unit_test1()\n",
    "    print(\"Third method\")\n",
    "    run_unit_test2()\n",
    "    \n",
    "    print(\"new_stress test\")\n",
    "    run_stress_test(1000,50)\n",
    "\n",
    "\n",
    "if __name__ == \"__main__\":\n",
    "    main()"
   ]
  },
  {
   "cell_type": "markdown",
   "metadata": {},
   "source": [
    "Unit tests and stress tests are passed. \n",
    "We can see that the fastest algorithm is the sweep and prune algorithm. \n",
    "I tried many times, the runtime for the sweep and prune was less than 2 sec when N = 1000 and T = 50."
   ]
  }
 ],
 "metadata": {
  "kernelspec": {
   "display_name": "Python 3",
   "language": "python",
   "name": "python3"
  },
  "language_info": {
   "codemirror_mode": {
    "name": "ipython",
    "version": 3
   },
   "file_extension": ".py",
   "mimetype": "text/x-python",
   "name": "python",
   "nbconvert_exporter": "python",
   "pygments_lexer": "ipython3",
   "version": "3.8.5"
  }
 },
 "nbformat": 4,
 "nbformat_minor": 5
}
